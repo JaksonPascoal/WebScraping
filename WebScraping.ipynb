{
  "nbformat": 4,
  "nbformat_minor": 0,
  "metadata": {
    "colab": {
      "provenance": [],
      "authorship_tag": "ABX9TyOBo1z1RyZzTZOdYMLZh2hv",
      "include_colab_link": true
    },
    "kernelspec": {
      "name": "python3",
      "display_name": "Python 3"
    },
    "language_info": {
      "name": "python"
    }
  },
  "cells": [
    {
      "cell_type": "markdown",
      "metadata": {
        "id": "view-in-github",
        "colab_type": "text"
      },
      "source": [
        "<a href=\"https://colab.research.google.com/github/JaksonPascoal/WebScraping/blob/main/WebScraping.ipynb\" target=\"_parent\"><img src=\"https://colab.research.google.com/assets/colab-badge.svg\" alt=\"Open In Colab\"/></a>"
      ]
    },
    {
      "cell_type": "markdown",
      "source": [
        "# Importando Bibliotecas\n",
        "\n",
        "\n",
        "1.   BeautitulSoup\n",
        "2.   Requests\n",
        "3.   re (expressões regulares)\n",
        "\n",
        "\n",
        "\n"
      ],
      "metadata": {
        "id": "TIqlN417SA6k"
      }
    },
    {
      "cell_type": "code",
      "execution_count": null,
      "metadata": {
        "id": "2yOvTYpyQj9u"
      },
      "outputs": [],
      "source": [
        "from bs4 import BeautifulSoup as bs\n",
        "import requests as rq\n",
        "import re"
      ]
    },
    {
      "cell_type": "markdown",
      "source": [
        "## Scraping de HTML em site"
      ],
      "metadata": {
        "id": "RTAHbNHySiOK"
      }
    },
    {
      "cell_type": "code",
      "source": [
        "htnl_completo = rq.get(\"http://webscraping.andreregino.com.br\")"
      ],
      "metadata": {
        "id": "TSnqu0bUSqxs"
      },
      "execution_count": null,
      "outputs": []
    },
    {
      "cell_type": "code",
      "source": [
        "html_formatado = bs(htnl_completo.content)\n",
        "print(html_formatado.prettify())"
      ],
      "metadata": {
        "colab": {
          "base_uri": "https://localhost:8080/"
        },
        "id": "9ZNQbDG7T2mO",
        "outputId": "33b990b6-b199-4b31-d947-e390bec2edbd"
      },
      "execution_count": null,
      "outputs": [
        {
          "output_type": "stream",
          "name": "stdout",
          "text": [
            "<!DOCTYPE html>\n",
            "<html lang=\"en\">\n",
            " <head>\n",
            "  <title>\n",
            "   E-book Git e GitHub - Seu Código Versionado\n",
            "  </title>\n",
            "  <!-- Meta -->\n",
            "  <meta charset=\"utf-8\"/>\n",
            "  <meta content=\"IE=edge\" http-equiv=\"X-UA-Compatible\"/>\n",
            "  <meta content=\"width=device-width, initial-scale=1.0\" name=\"viewport\"/>\n",
            "  <meta content=\"E-book Git e GitHub - Seu Código Versionado\" name=\"description\"/>\n",
            "  <meta content=\"André Gomes Regino\" name=\"author\"/>\n",
            "  <link href=\"favicon.ico\" rel=\"shortcut icon\"/>\n",
            "  <!-- Google Font -->\n",
            "  <link href=\"https://fonts.googleapis.com/css?family=Quicksand:700|Roboto:400,400i,700&amp;display=swap\" rel=\"stylesheet\"/>\n",
            "  <!-- FontAwesome JS-->\n",
            "  <script defer=\"\" src=\"assets/fontawesome/js/all.min.js\">\n",
            "  </script>\n",
            "  <!-- Theme CSS -->\n",
            "  <link href=\"assets/css/theme.css\" id=\"theme-style\" rel=\"stylesheet\"/>\n",
            " </head>\n",
            " <body>\n",
            "  <header class=\"header\">\n",
            "   <div class=\"branding\">\n",
            "    <div class=\"container-fluid position-relative py-3\">\n",
            "    </div>\n",
            "    <!--//container-->\n",
            "   </div>\n",
            "   <!--//branding-->\n",
            "  </header>\n",
            "  <!--//header-->\n",
            "  <section class=\"hero-section\">\n",
            "   <div class=\"container\">\n",
            "    <div class=\"row\">\n",
            "     <div class=\"col-12 col-md-7 pt-5 mb-5 align-self-center\">\n",
            "      <div class=\"promo pr-md-3 pr-lg-5\">\n",
            "       <h1 class=\"headline mb-3\">\n",
            "        E-book Git e GitHub\n",
            "        <br/>\n",
            "        Seu Código Versionado\n",
            "       </h1>\n",
            "       <div class=\"subheadline mb-4\">\n",
            "        Aprenda o básico de versionamento de código, sem enrolação e sem termos dificeis, usando tanto o Git quanto o Github.\n",
            "       </div>\n",
            "       <div class=\"subheadline mb-4\">\n",
            "        Cansado de cursos e livros longos que não vão direto ao ponto? \n",
            "\n",
            "\t\t\t\t\t\t\tAqui eu te ensino Git e GitHub em aproximadamente 1 hora, sem enrolação! Dá pra ler o livro todo no horário do almoço e depois ainda impressionar o chefe dizendo que aprendeu a versionar seu super código.\n",
            "       </div>\n",
            "       <div class=\"cta-holder\">\n",
            "        <a class=\"btn btn-primary mr-lg-2\" href=\"https://payment.hotmart.com/R54638781B?checkoutMode=10\">\n",
            "         Compre agora\n",
            "        </a>\n",
            "       </div>\n",
            "      </div>\n",
            "     </div>\n",
            "     <div class=\"col-12 col-md-5 mb-5 align-self-center\">\n",
            "      <div class=\"book-cover-holder\">\n",
            "       <img alt=\"book cover\" class=\"img-fluid book-cover\" src=\"assets/images/capa-ebook-git-github.png\"/>\n",
            "       <div class=\"book-badge d-inline-block shadow\">\n",
            "        Mais\n",
            "        <br/>\n",
            "        Vendido\n",
            "       </div>\n",
            "      </div>\n",
            "      <!--//book-cover-holder-->\n",
            "     </div>\n",
            "     <!--col-->\n",
            "    </div>\n",
            "    <!--//row-->\n",
            "   </div>\n",
            "   <!--//container-->\n",
            "  </section>\n",
            "  <!--//hero-section-->\n",
            "  <section class=\"for-what-git-section theme-bg-light-gradient py-5\" id=\"for-what-git-section\">\n",
            "   <div class=\"container py-5\">\n",
            "    <h2 class=\"section-heading text-center mb-3\">\n",
            "     Para que aprender Git?\n",
            "    </h2>\n",
            "    <div class=\"section-intro single-col-max mx-auto text-center mb-5\">\n",
            "     Grande parte das empresas que tem um ramo de TI, seja esta uma startup ou multinacional, versionam o código usando essas ferramentas. Imagine o cenário com 100 programadores fazendo mudança em um mesmo código. Sem um versionamento, viraria uma bagunça! O versionamento com Git veio para sanar esse tipo de situação.\n",
            "    </div>\n",
            "   </div>\n",
            "  </section>\n",
            "  <section class=\"for-what-github-section theme-bg-light-gradient py-5\" id=\"for-what-github-section\" style=\"background-color: #a82fa8; background-image: none !important\">\n",
            "   <div class=\"container py-5\">\n",
            "    <h2 class=\"section-heading text-center mb-3\">\n",
            "     Para que aprender GitHub?\n",
            "    </h2>\n",
            "    <div class=\"section-intro single-col-max mx-auto text-center mb-5\" style=\"color: white !important\">\n",
            "     O GitHub virou uma \"vitrine\" de códigos para o programador. Recrutadores das empresas olham - além do seu currículo - seu código. É através dessa vitrine que a empresa identifica como é seu estilo de programação, quais as linguagens que tem mais interesse, quais projetos open source você contribui no momento.\n",
            "    </div>\n",
            "   </div>\n",
            "  </section>\n",
            "  <section class=\"benefits-section theme-bg-light-gradient py-5\" id=\"benefits-section\">\n",
            "   <div class=\"container py-5\">\n",
            "    <h2 class=\"section-heading text-center mb-3\">\n",
            "     Quais os Benefícios deste E-book?\n",
            "    </h2>\n",
            "    <div class=\"section-intro single-col-max mx-auto text-center mb-5\">\n",
            "     Resumidamente, nesse e-book você aprenderá desde como encontrar todas as informações necessárias para \"fazer seu primeiro commit\" até em como hospedar seu precioso código na maior \"rede social de programadores\" do mundo.\n",
            "    </div>\n",
            "    <div class=\"row text-center\">\n",
            "     <div class=\"item col-12 col-md-6 col-lg-4\">\n",
            "      <div class=\"item-inner p-3 p-lg-4\">\n",
            "       <div class=\"item-header mb-3\">\n",
            "        <div class=\"item-icon\">\n",
            "         <i class=\"fas fa-laptop-code\">\n",
            "         </i>\n",
            "        </div>\n",
            "        <h3 class=\"item-heading\">\n",
            "         Praticidade na Hora do \"Mão na Massa\"\n",
            "        </h3>\n",
            "       </div>\n",
            "       <!--//item-heading-->\n",
            "       <div class=\"item-desc\">\n",
            "        Nada de tutoriais complexos. Na sua tela estará aberto o terminal do Git, o GitHub e esse e-book. Só.\n",
            "       </div>\n",
            "       <!--//item-desc-->\n",
            "      </div>\n",
            "      <!--//item-inner-->\n",
            "     </div>\n",
            "     <!--//item-->\n",
            "     <div class=\"item col-12 col-md-6 col-lg-4\">\n",
            "      <div class=\"item-inner p-3 p-lg-4\">\n",
            "       <div class=\"item-header mb-3\">\n",
            "        <div class=\"item-icon\">\n",
            "         <i class=\"fas fa-code-branch\">\n",
            "         </i>\n",
            "        </div>\n",
            "        <h3 class=\"item-heading\">\n",
            "         Aprendizado dos Principais Comandos Usados\n",
            "        </h3>\n",
            "       </div>\n",
            "       <!--//item-heading-->\n",
            "       <div class=\"item-desc\">\n",
            "        git add, commit, push, pull, blame, checkout, reset, clone, diff, log...\n",
            "       </div>\n",
            "       <!--//item-desc-->\n",
            "      </div>\n",
            "      <!--//item-inner-->\n",
            "     </div>\n",
            "     <!--//item-->\n",
            "     <div class=\"item col-12 col-md-6 col-lg-4\">\n",
            "      <div class=\"item-inner p-3 p-lg-4\">\n",
            "       <div class=\"item-header mb-3\">\n",
            "        <div class=\"item-icon\">\n",
            "         <i class=\"fab fa-js-square\">\n",
            "         </i>\n",
            "        </div>\n",
            "        <h3 class=\"item-heading\">\n",
            "         Aplicável a Qualquer Linguagem de Programação\n",
            "        </h3>\n",
            "       </div>\n",
            "       <!--//item-heading-->\n",
            "       <div class=\"item-desc\">\n",
            "        Você conseguirá versionar tudo, desde o seu site estático em HTML até o sistema enorme da sua empresa.\n",
            "       </div>\n",
            "       <!--//item-desc-->\n",
            "      </div>\n",
            "      <!--//item-inner-->\n",
            "     </div>\n",
            "     <!--//item-->\n",
            "     <div class=\"item col-12 col-md-6 col-lg-4\">\n",
            "      <div class=\"item-inner p-3 p-lg-4\">\n",
            "       <div class=\"item-header mb-3\">\n",
            "        <div class=\"item-icon\">\n",
            "         <i class=\"fab fa-rocketchat\">\n",
            "         </i>\n",
            "        </div>\n",
            "        <h3 class=\"item-heading\">\n",
            "         Dicas Valiosas de Quem tem Experiência em Versionamento\n",
            "        </h3>\n",
            "       </div>\n",
            "       <!--//item-heading-->\n",
            "       <div class=\"item-desc\">\n",
            "        Não adianta saber de cor os comandos. Neste e-book você encontrará 60 páginas de conteúdo, incluindo 09 dicas para melhorar o uso do Git no dia-a-dia.\n",
            "       </div>\n",
            "       <!--//item-desc-->\n",
            "      </div>\n",
            "      <!--//item-inner-->\n",
            "     </div>\n",
            "     <!--//item-->\n",
            "     <div class=\"item col-12 col-md-6 col-lg-4\">\n",
            "      <div class=\"item-inner p-3 p-lg-4\">\n",
            "       <div class=\"item-header mb-3\">\n",
            "        <div class=\"item-icon\">\n",
            "         <i class=\"fab fa-angular\">\n",
            "         </i>\n",
            "        </div>\n",
            "        <h3 class=\"item-heading\">\n",
            "         Clone de Repositórios Famosos\n",
            "        </h3>\n",
            "       </div>\n",
            "       <!--//item-heading-->\n",
            "       <div class=\"item-desc\">\n",
            "        Você aprenderá como clonar projetos open-source famosos na sua máquina, como o Laravel.\n",
            "       </div>\n",
            "       <!--//item-desc-->\n",
            "      </div>\n",
            "      <!--//item-inner-->\n",
            "     </div>\n",
            "     <!--//item-->\n",
            "     <div class=\"item col-12 col-md-6 col-lg-4\">\n",
            "      <div class=\"item-inner p-3 p-lg-4\">\n",
            "       <div class=\"item-header mb-3\">\n",
            "        <div class=\"item-icon\">\n",
            "         <i class=\"fas fa-hand-holding-usd\">\n",
            "         </i>\n",
            "        </div>\n",
            "        <h3 class=\"item-heading\">\n",
            "         Diferencial na Entrevista de Emprego\n",
            "        </h3>\n",
            "       </div>\n",
            "       <!--//item-heading-->\n",
            "       <div class=\"item-desc\">\n",
            "        Já percebeu que toda vaga de desenvolvimento/programação hoje em dia pede como obrigatório o Git?\n",
            "       </div>\n",
            "       <!--//item-desc-->\n",
            "      </div>\n",
            "      <!--//item-inner-->\n",
            "     </div>\n",
            "     <!--//item-->\n",
            "    </div>\n",
            "    <!--//row-->\n",
            "   </div>\n",
            "   <!--//container-->\n",
            "  </section>\n",
            "  <!--//benefits-section-->\n",
            "  <section class=\"content-section\" id=\"content-section\">\n",
            "   <div class=\"container\">\n",
            "    <div class=\"single-col-max mx-auto\">\n",
            "     <h2 class=\"section-heading text-center mb-5\">\n",
            "      Quais os Tópicos?\n",
            "     </h2>\n",
            "     <div class=\"row\">\n",
            "      <div class=\"col-12 col-md-8\">\n",
            "       <div class=\"figure-holder mb-5\">\n",
            "        <img alt=\"image\" class=\"img-fluid\" src=\"assets/images/devices.png\"/>\n",
            "       </div>\n",
            "       <!--//figure-holder-->\n",
            "      </div>\n",
            "      <!--//col-->\n",
            "      <div class=\"col-12 col-md-4 mb-5\">\n",
            "       <div class=\"key-points mb-4 text-center\">\n",
            "        <ul class=\"key-points-list list-unstyled mb-4 mx-auto d-inline-block text-left\">\n",
            "         <li>\n",
            "          <i class=\"fas fa-check-circle mr-2\">\n",
            "          </i>\n",
            "          Instalação do Git e Criação de Conta no GitHub\n",
            "         </li>\n",
            "         <li>\n",
            "          <i class=\"fas fa-check-circle mr-2\">\n",
            "          </i>\n",
            "          Adicionar, Excluir e Listar  Modificações de Código\n",
            "         </li>\n",
            "         <li>\n",
            "          <i class=\"fas fa-check-circle mr-2\">\n",
            "          </i>\n",
            "          Receber, Enviar, Verificar e Resetar Modificações de Código\n",
            "         </li>\n",
            "         <li>\n",
            "          <i class=\"fas fa-check-circle mr-2\">\n",
            "          </i>\n",
            "          Lidar com Conflitos e Clonar Projetos Públicos\n",
            "         </li>\n",
            "        </ul>\n",
            "        <div class=\"text-center\">\n",
            "         <a class=\"btn btn-primary\" href=\"https://payment.hotmart.com/R54638781B?checkoutMode=10\">\n",
            "          Eu quero esse livro\n",
            "         </a>\n",
            "        </div>\n",
            "       </div>\n",
            "       <!--//key-points-->\n",
            "      </div>\n",
            "      <!--//col-12-->\n",
            "     </div>\n",
            "     <!--//row-->\n",
            "    </div>\n",
            "    <!--//single-col-max-->\n",
            "   </div>\n",
            "   <!--//container-->\n",
            "  </section>\n",
            "  <!--//content-section-->\n",
            "  <section class=\"content-section\" id=\"´topics-section\">\n",
            "   <div class=\"container\">\n",
            "    <div class=\"\">\n",
            "     <h2 class=\"section-heading text-center mb-5\">\n",
            "      Quais os Tópicos?\n",
            "     </h2>\n",
            "     <div class=\"row\">\n",
            "      <div class=\"col-12 col-md-6\">\n",
            "       <div class=\"figure-holder mb-5\">\n",
            "        <img alt=\"image\" class=\"img-fluid\" src=\"assets/images/sumario.png\"/>\n",
            "       </div>\n",
            "       <!--//figure-holder-->\n",
            "      </div>\n",
            "      <!--//col-->\n",
            "      <div class=\"col-12 col-md-6\">\n",
            "       <div class=\"figure-holder mb-5\">\n",
            "        <img alt=\"image\" class=\"img-fluid\" src=\"assets/images/carta-ao-leitor.png\"/>\n",
            "       </div>\n",
            "       <!--//figure-holder-->\n",
            "      </div>\n",
            "      <!--//col-->\n",
            "     </div>\n",
            "     <!--//row-->\n",
            "    </div>\n",
            "    <!--//single-col-max-->\n",
            "   </div>\n",
            "   <!--//container-->\n",
            "  </section>\n",
            "  <!--//content-section-->\n",
            "  <section class=\"audience-section py-5\" id=\"audience-section\">\n",
            "   <div class=\"container\">\n",
            "    <h2 class=\"section-heading text-center mb-4\">\n",
            "     Para Quem é Esse Livro\n",
            "    </h2>\n",
            "    <div class=\"section-intro single-col-max mx-auto text-center mb-5\">\n",
            "    </div>\n",
            "    <!--//section-intro-->\n",
            "    <div class=\"audience mx-auto\">\n",
            "     <div class=\"item media\">\n",
            "      <div class=\"item-icon mr-3\">\n",
            "       <i class=\"fas fa-user-check\">\n",
            "       </i>\n",
            "      </div>\n",
            "      <div class=\"media-body\">\n",
            "       <h4 class=\"item-title\">\n",
            "        Programadores Iniciantes\n",
            "       </h4>\n",
            "       <div class=\"item-desc\">\n",
            "       </div>\n",
            "      </div>\n",
            "      <!--//media-body-->\n",
            "     </div>\n",
            "     <!--//item-->\n",
            "     <div class=\"item media\">\n",
            "      <div class=\"item-icon mr-3\">\n",
            "       <i class=\"fas fa-user-check\">\n",
            "       </i>\n",
            "      </div>\n",
            "      <div class=\"media-body\">\n",
            "       <h4 class=\"item-title\">\n",
            "        Estudantes de Ciência da Computação\n",
            "       </h4>\n",
            "      </div>\n",
            "      <!--//media-body-->\n",
            "     </div>\n",
            "     <!--//item-->\n",
            "     <div class=\"item media\">\n",
            "      <div class=\"item-icon mr-3\">\n",
            "       <i class=\"fas fa-user-check\">\n",
            "       </i>\n",
            "      </div>\n",
            "      <div class=\"media-body\">\n",
            "       <h4 class=\"item-title\">\n",
            "        Interessados em Contribuir em Códigos Open Source\n",
            "       </h4>\n",
            "       <div class=\"item-desc\">\n",
            "       </div>\n",
            "      </div>\n",
            "      <!--//media-body-->\n",
            "     </div>\n",
            "     <!--//item-->\n",
            "     <div class=\"item media\">\n",
            "      <div class=\"item-icon mr-3\">\n",
            "       <i class=\"fas fa-user-check\">\n",
            "       </i>\n",
            "      </div>\n",
            "      <div class=\"media-body\">\n",
            "       <h4 class=\"item-title\">\n",
            "        Curiosos\n",
            "       </h4>\n",
            "       <div class=\"item-desc\">\n",
            "        Está aí de bobeira? Bora ocupar seu tempo com conhecimento.\n",
            "       </div>\n",
            "      </div>\n",
            "      <!--//media-body-->\n",
            "     </div>\n",
            "     <!--//item-->\n",
            "     <div class=\"item media\">\n",
            "      <div class=\"item-icon mr-3\" style=\"color:red\">\n",
            "       <i class=\"fas fa-user-times\">\n",
            "       </i>\n",
            "      </div>\n",
            "      <div class=\"media-body\">\n",
            "       <h4 class=\"item-title\">\n",
            "        Programadores que dominam o GitHub, GitLab, BitBucket, etc\n",
            "       </h4>\n",
            "       <div class=\"item-desc\">\n",
            "       </div>\n",
            "      </div>\n",
            "      <!--//media-body-->\n",
            "     </div>\n",
            "     <!--//item-->\n",
            "     <div class=\"item media\">\n",
            "      <div class=\"item-icon mr-3\" style=\"color:red\">\n",
            "       <i class=\"fas fa-user-times\">\n",
            "       </i>\n",
            "      </div>\n",
            "      <div class=\"media-body\">\n",
            "       <h4 class=\"item-title\">\n",
            "        Programadores plenos e seniores\n",
            "       </h4>\n",
            "       <div class=\"item-desc\">\n",
            "        Já tem que saber o  mínimo de Git e GitHub!\n",
            "       </div>\n",
            "      </div>\n",
            "      <!--//media-body-->\n",
            "     </div>\n",
            "     <!--//item-->\n",
            "    </div>\n",
            "    <!--//audience-->\n",
            "   </div>\n",
            "   <!--//container-->\n",
            "  </section>\n",
            "  <!--//audience-section-->\n",
            "  <section class=\"pre-requisite-section\" id=\"pre-requisite-section\">\n",
            "   <div class=\"container\">\n",
            "    <div class=\"lead-form-wrapper single-col-max mx-auto theme-bg-light rounded p-5\">\n",
            "     <h2 class=\"form-heading text-center\">\n",
            "      Quais os Pré Requisitos\n",
            "     </h2>\n",
            "     <div class=\"form-intro text-center mb-3\">\n",
            "      Nenhum, somente sua vontade de aprender.\n",
            "     </div>\n",
            "    </div>\n",
            "    <!--//lead-form-wrapper-->\n",
            "   </div>\n",
            "   <!--//container-->\n",
            "  </section>\n",
            "  <!--//form-section-->\n",
            "  <section class=\"reviews-section py-5\" id=\"reviews-section\">\n",
            "   <div class=\"container\">\n",
            "    <h2 class=\"section-heading text-center\">\n",
            "     Reviews\n",
            "    </h2>\n",
            "    <div class=\"section-intro text-center single-col-max mx-auto mb-5\">\n",
            "     Veja o que os leitores estão achando deste livro.\n",
            "    </div>\n",
            "    <div class=\"row justify-content-center\">\n",
            "     <div class=\"item col-12 col-lg-4 p-3 mb-4\">\n",
            "      <div class=\"item-inner theme-bg-light rounded p-4\">\n",
            "       <blockquote class=\"quote\">\n",
            "        \"E-book rápido e dinâmico. Perfeito para quem não conhece a ferramenta e deseja dar os primeiros passos.\"\n",
            "       </blockquote>\n",
            "       <!--//item-->\n",
            "       <div class=\"source media flex-column flex-md-row align-items-center\">\n",
            "        <img alt=\"image\" class=\"source-profile mr-md-3\" src=\"assets/images/profiles/marcelo_dantas.jpg\" style=\"    border-radius: 50%;\"/>\n",
            "        <div class=\"source-info media-body text-center text-md-left\">\n",
            "         <div class=\"source-name\">\n",
            "          Marcelo Dantas\n",
            "         </div>\n",
            "         <div class=\"soure-title\">\n",
            "          Leitor do e-book\n",
            "         </div>\n",
            "        </div>\n",
            "       </div>\n",
            "       <!--//source-->\n",
            "       <div class=\"icon-holder\">\n",
            "        <i class=\"fas fa-quote-right\">\n",
            "        </i>\n",
            "       </div>\n",
            "      </div>\n",
            "      <!--//inner-->\n",
            "     </div>\n",
            "     <!--//item-->\n",
            "     <div class=\"item col-12 col-lg-4 p-3 mb-4\">\n",
            "      <div class=\"item-inner theme-bg-light rounded p-4\">\n",
            "       <blockquote class=\"quote\">\n",
            "        \"Ótimo livro! O autor aborda de maneira simples e didática os principais conceitos sobre Git e GitHub.\"\n",
            "       </blockquote>\n",
            "       <!--//item-->\n",
            "       <div class=\"source media flex-column flex-md-row align-items-center\">\n",
            "        <img alt=\"image\" class=\"source-profile mr-md-3\" src=\"assets/images/profiles/enio_monteiro.png\"/>\n",
            "        <div class=\"source-info media-body text-center text-md-left\">\n",
            "         <div class=\"source-name\">\n",
            "          Ênio Monteiro\n",
            "         </div>\n",
            "         <div class=\"soure-title\">\n",
            "          Leitor do e-book\n",
            "         </div>\n",
            "        </div>\n",
            "       </div>\n",
            "       <!--//source-->\n",
            "       <div class=\"icon-holder\">\n",
            "        <i class=\"fas fa-quote-right\">\n",
            "        </i>\n",
            "       </div>\n",
            "      </div>\n",
            "      <!--//inner-->\n",
            "     </div>\n",
            "     <!--//item-->\n",
            "     <div class=\"item col-12 col-lg-4 p-3 mb-4\">\n",
            "      <div class=\"item-inner theme-bg-light rounded p-4\">\n",
            "       <blockquote class=\"quote\">\n",
            "        \"Uma didática excelente, facilitando muito o aprendizado das pessoas, um dos melhores livros de Git e Github que eu já li.\"\n",
            "       </blockquote>\n",
            "       <!--//item-->\n",
            "       <div class=\"source media flex-column flex-md-row align-items-center\">\n",
            "        <img alt=\"image\" class=\"source-profile mr-md-3\" src=\"assets/images/profiles/felipe_arjol.png\"/>\n",
            "        <div class=\"source-info media-body text-center text-md-left\">\n",
            "         <div class=\"source-name\">\n",
            "          Felipe Arjol\n",
            "         </div>\n",
            "         <div class=\"soure-title\">\n",
            "          Leitor do e-book\n",
            "         </div>\n",
            "        </div>\n",
            "       </div>\n",
            "       <!--//source-->\n",
            "       <div class=\"icon-holder\">\n",
            "        <i class=\"fas fa-quote-right\">\n",
            "        </i>\n",
            "       </div>\n",
            "      </div>\n",
            "      <!--//inner-->\n",
            "     </div>\n",
            "     <!--//item-->\n",
            "    </div>\n",
            "    <!--//row-->\n",
            "    <div class=\"text-center\">\n",
            "     <a class=\"btn btn-primary\" href=\"https://payment.hotmart.com/R54638781B?checkoutMode=10\">\n",
            "      Adquira Sua Cópia Hoje\n",
            "     </a>\n",
            "    </div>\n",
            "   </div>\n",
            "   <!--//container-->\n",
            "  </section>\n",
            "  <!--//reviews-section-->\n",
            "  <section class=\"author-section section theme-bg-primary py-5\" id=\"author-section\">\n",
            "   <div class=\"container py-3\">\n",
            "    <div class=\"author-profile text-center mb-5\">\n",
            "     <img alt=\"image\" class=\"author-pic\" src=\"assets/images/profiles/perfil_andre.jpg\" style=\"    border-radius: 50%\"/>\n",
            "    </div>\n",
            "    <!--//author-profile-->\n",
            "    <h2 class=\"section-heading text-center text-white mb-3\">\n",
            "     Sobre o Autor\n",
            "    </h2>\n",
            "    <div class=\"author-bio single-col-max mx-auto\">\n",
            "     <p>\n",
            "      Prazer. Meu nome é André e já me sinto muito feliz pelo seu interesse neste e-book sobre Git e GitHub, um dos e-books da série de programação para iniciante. Nele, reuno todo o conhecimento necessário que você precisa ter sobre essas ferramentas, bem como experiências valiosas que passei no mercado de trabalho, na pesquisa acadêmica e nas aulas como professor.\n",
            "     </p>\n",
            "     <p>\n",
            "      Sou bacharel em Ciência da Computação pela Unesp e técnico em Programação de Computadores pela ETEC. Me especializei em Consultoria Web pela FATEC, área onde o Git e o GitHub se destacam. Conclui minha carreira acadêmica tornando-me mestre em Ciência da Computação pela Unicamp (em plena pandemia, um grande desafio!).\n",
            "     </p>\n",
            "     <p>\n",
            "      Possuo 10 anos de experiência em desenvolvimento de software. Dentre minhas experiências cabe citar a criação e manutenção de softwares destes segmentos:\n",
            "     </p>\n",
            "     <ul>\n",
            "      <li>\n",
            "       Consultoria Financeira\n",
            "      </li>\n",
            "      <li>\n",
            "       E-commerce\n",
            "      </li>\n",
            "      <li>\n",
            "       ERP\n",
            "      </li>\n",
            "     </ul>\n",
            "     <p>\n",
            "      Você pode encontrar mais informações sobre mim no\n",
            "      <a href=\"http://andreregino.com.br\" style=\"color: white; text-decoration: underline;\" target=\"_blank\">\n",
            "       meu site\n",
            "      </a>\n",
            "      .\n",
            "     </p>\n",
            "     <div class=\"text-center\">\n",
            "      <a class=\"btn btn-primary\" href=\"https://payment.hotmart.com/R54638781B?checkoutMode=10\" style=\"background: green !important;\">\n",
            "       Quero Aprender Git e GitHub\n",
            "      </a>\n",
            "     </div>\n",
            "    </div>\n",
            "    <!--//author-bio-->\n",
            "   </div>\n",
            "   <!--//container-->\n",
            "  </section>\n",
            "  <!--//author-section-->\n",
            "  <section class=\"price py-5\">\n",
            "   <div class=\"container\">\n",
            "    <h2 class=\"section-heading text-center mb-5\">\n",
            "     Investimento\n",
            "    </h2>\n",
            "    <div class=\"card-deck mb-3 text-center d-flex justify-content-center\">\n",
            "     <div class=\"col-12 col-md-4 col-lg-4 card mb-4 box-shadow\">\n",
            "      <div class=\"card-header\">\n",
            "       <h4 class=\"my-0 font-weight-normal\">\n",
            "        Promoção\n",
            "       </h4>\n",
            "      </div>\n",
            "      <div class=\"card-body\">\n",
            "       <h3 style=\"color:red\">\n",
            "        <s>\n",
            "         de R$89,90\n",
            "        </s>\n",
            "       </h3>\n",
            "       <h4>\n",
            "        por\n",
            "       </h4>\n",
            "       <h1 class=\"card-title pricing-card-title\">\n",
            "        <small class=\"text-muted\">\n",
            "         4x de\n",
            "        </small>\n",
            "        <span style=\"color: green\">\n",
            "         R$9,90\n",
            "        </span>\n",
            "       </h1>\n",
            "       <ul class=\"list-unstyled mt-3 mb-4\">\n",
            "        <li>\n",
            "         R$1,00 por dia de investimento!\n",
            "        </li>\n",
            "        <li>\n",
            "         60 páginas de conteúdo\n",
            "        </li>\n",
            "        <li>\n",
            "         Segurança na compra\n",
            "        </li>\n",
            "        <li>\n",
            "         Comprou, chegou\n",
            "        </li>\n",
            "        <li>\n",
            "         7 dias de garantia\n",
            "        </li>\n",
            "       </ul>\n",
            "       <div class=\"text-center\">\n",
            "        <a class=\"btn btn-primary\" href=\"https://payment.hotmart.com/R54638781B?checkoutMode=10\" style=\"background: green !important;\">\n",
            "         Quero Aprender Git e GitHub\n",
            "        </a>\n",
            "       </div>\n",
            "      </div>\n",
            "     </div>\n",
            "    </div>\n",
            "   </div>\n",
            "  </section>\n",
            "  <!-- Javascript -->\n",
            "  <script src=\"assets/plugins/jquery-3.4.1.min.js\">\n",
            "  </script>\n",
            "  <script src=\"assets/plugins/popper.min.js\">\n",
            "  </script>\n",
            "  <script src=\"assets/plugins/bootstrap/js/bootstrap.min.js\">\n",
            "  </script>\n",
            "  <script src=\"assets/plugins/jquery.scrollTo.min.js\">\n",
            "  </script>\n",
            "  <script src=\"assets/plugins/back-to-top.js\">\n",
            "  </script>\n",
            "  <script src=\"assets/js/main.js\">\n",
            "  </script>\n",
            " </body>\n",
            "</html>\n",
            "\n"
          ]
        }
      ]
    },
    {
      "cell_type": "markdown",
      "source": [
        "### Função 'find()'\n",
        "\n",
        "\n",
        "*   Para pegar 'h2'\n",
        "\n",
        "\n",
        "\n",
        "\n"
      ],
      "metadata": {
        "id": "JOf8skTFaY59"
      }
    },
    {
      "cell_type": "code",
      "source": [
        "primeiro_h2 = html_formatado.find(\"h2\")\n",
        "print(primeiro_h2)"
      ],
      "metadata": {
        "colab": {
          "base_uri": "https://localhost:8080/"
        },
        "id": "cEdwQz5tY5cE",
        "outputId": "25dc385d-c8f4-4084-de55-3054c5303f4a"
      },
      "execution_count": null,
      "outputs": [
        {
          "output_type": "stream",
          "name": "stdout",
          "text": [
            "<h2 class=\"section-heading text-center mb-3\">Para que aprender Git?</h2>\n"
          ]
        }
      ]
    },
    {
      "cell_type": "markdown",
      "source": [
        "### Para pegar só o texto, usa-se \".text\""
      ],
      "metadata": {
        "id": "nTuKhyD_ZgS-"
      }
    },
    {
      "cell_type": "code",
      "source": [
        "primeiro_h2 = html_formatado.find(\"h2\").text\n",
        "print(primeiro_h2)"
      ],
      "metadata": {
        "colab": {
          "base_uri": "https://localhost:8080/"
        },
        "id": "PxgiB2TcZl4_",
        "outputId": "b0476e23-f0a1-4c80-e418-e81c3335bbb7"
      },
      "execution_count": null,
      "outputs": [
        {
          "output_type": "stream",
          "name": "stdout",
          "text": [
            "Para que aprender Git?\n"
          ]
        }
      ]
    },
    {
      "cell_type": "markdown",
      "source": [
        "### Função 'find_all()'\n",
        "\n",
        "\n",
        "*   Para pegar todos os 'h2'\n",
        "\n"
      ],
      "metadata": {
        "id": "GV7TkXzUai2s"
      }
    },
    {
      "cell_type": "code",
      "source": [
        "todas_occorrencias_h2 = html_formatado.find_all(\"h2\")\n",
        "print(todas_occorrencias_h2)"
      ],
      "metadata": {
        "colab": {
          "base_uri": "https://localhost:8080/"
        },
        "id": "QXJvZ9lZazuw",
        "outputId": "c3d8b919-7602-4cf7-d58b-cdddac1c5162"
      },
      "execution_count": null,
      "outputs": [
        {
          "output_type": "stream",
          "name": "stdout",
          "text": [
            "[<h2 class=\"section-heading text-center mb-3\">Para que aprender Git?</h2>, <h2 class=\"section-heading text-center mb-3\">Para que aprender GitHub?</h2>, <h2 class=\"section-heading text-center mb-3\">Quais os Benefícios deste E-book?</h2>, <h2 class=\"section-heading text-center mb-5\">Quais os Tópicos?</h2>, <h2 class=\"section-heading text-center mb-5\">Quais os Tópicos?</h2>, <h2 class=\"section-heading text-center mb-4\">Para Quem é Esse Livro</h2>, <h2 class=\"form-heading text-center\">Quais os Pré Requisitos</h2>, <h2 class=\"section-heading text-center\">Reviews</h2>, <h2 class=\"section-heading text-center text-white mb-3\">Sobre o Autor</h2>, <h2 class=\"section-heading text-center mb-5\">Investimento</h2>]\n"
          ]
        }
      ]
    },
    {
      "cell_type": "markdown",
      "source": [
        "### Usando o 'for' para percorrer os 'h2s'"
      ],
      "metadata": {
        "id": "gWZ12RXAbrHC"
      }
    },
    {
      "cell_type": "code",
      "source": [
        "for occorencias_h2 in todas_occorrencias_h2:\n",
        "  print(occorencias_h2)"
      ],
      "metadata": {
        "colab": {
          "base_uri": "https://localhost:8080/"
        },
        "id": "reBajcMubzOh",
        "outputId": "d075ead2-a0d7-4213-fac3-3caeb03867bb"
      },
      "execution_count": null,
      "outputs": [
        {
          "output_type": "stream",
          "name": "stdout",
          "text": [
            "<h2 class=\"section-heading text-center mb-3\">Para que aprender Git?</h2>\n",
            "<h2 class=\"section-heading text-center mb-3\">Para que aprender GitHub?</h2>\n",
            "<h2 class=\"section-heading text-center mb-3\">Quais os Benefícios deste E-book?</h2>\n",
            "<h2 class=\"section-heading text-center mb-5\">Quais os Tópicos?</h2>\n",
            "<h2 class=\"section-heading text-center mb-5\">Quais os Tópicos?</h2>\n",
            "<h2 class=\"section-heading text-center mb-4\">Para Quem é Esse Livro</h2>\n",
            "<h2 class=\"form-heading text-center\">Quais os Pré Requisitos</h2>\n",
            "<h2 class=\"section-heading text-center\">Reviews</h2>\n",
            "<h2 class=\"section-heading text-center text-white mb-3\">Sobre o Autor</h2>\n",
            "<h2 class=\"section-heading text-center mb-5\">Investimento</h2>\n"
          ]
        }
      ]
    },
    {
      "cell_type": "code",
      "source": [
        "for occorencias_h2 in todas_occorrencias_h2:\n",
        "  print(occorencias_h2.text)"
      ],
      "metadata": {
        "colab": {
          "base_uri": "https://localhost:8080/"
        },
        "id": "JNNs5PN9c3oE",
        "outputId": "647c30f5-0b5a-4d4f-845f-6a67417c43f9"
      },
      "execution_count": null,
      "outputs": [
        {
          "output_type": "stream",
          "name": "stdout",
          "text": [
            "Para que aprender Git?\n",
            "Para que aprender GitHub?\n",
            "Quais os Benefícios deste E-book?\n",
            "Quais os Tópicos?\n",
            "Quais os Tópicos?\n",
            "Para Quem é Esse Livro\n",
            "Quais os Pré Requisitos\n",
            "Reviews\n",
            "Sobre o Autor\n",
            "Investimento\n"
          ]
        }
      ]
    },
    {
      "cell_type": "markdown",
      "source": [
        "### Para pegar todos os 'h2' e 'h1'.\n",
        "\n",
        "\n",
        "*   Obs : Inserir lista\n",
        "\n"
      ],
      "metadata": {
        "id": "ZvYuzz_vdaam"
      }
    },
    {
      "cell_type": "code",
      "source": [
        "todas_occorrencias_h2_h1 = html_formatado.find_all([\"h2\",\"h1\"])\n",
        "for occorencias_h2_h1 in todas_occorrencias_h2_h1:\n",
        "  print(occorencias_h2_h1.text)\n"
      ],
      "metadata": {
        "colab": {
          "base_uri": "https://localhost:8080/"
        },
        "id": "ZqEFhRwEdtPm",
        "outputId": "92963c5c-80a8-47ea-ed51-fe99478496d4"
      },
      "execution_count": null,
      "outputs": [
        {
          "output_type": "stream",
          "name": "stdout",
          "text": [
            "\n",
            "\t\t\t\t\t\t    E-book Git e GitHubSeu Código Versionado\n",
            "\t\t\t\t\t    \n",
            "Para que aprender Git?\n",
            "Para que aprender GitHub?\n",
            "Quais os Benefícios deste E-book?\n",
            "Quais os Tópicos?\n",
            "Quais os Tópicos?\n",
            "Para Quem é Esse Livro\n",
            "Quais os Pré Requisitos\n",
            "Reviews\n",
            "Sobre o Autor\n",
            "Investimento\n",
            "4x de R$9,90\n"
          ]
        }
      ]
    },
    {
      "cell_type": "markdown",
      "source": [
        "### Pegando Conteúdo através das classes e ID's"
      ],
      "metadata": {
        "id": "uACZmgDUXk6M"
      }
    },
    {
      "cell_type": "code",
      "source": [
        "preco = html_formatado.find_all(class_ = \"card-title pricing-card-title\")\n",
        "print(preco)"
      ],
      "metadata": {
        "colab": {
          "base_uri": "https://localhost:8080/"
        },
        "id": "HtgJ86gKXtTr",
        "outputId": "29067d79-31d0-43c8-9cd6-d0cdb25933f0"
      },
      "execution_count": null,
      "outputs": [
        {
          "output_type": "stream",
          "name": "stdout",
          "text": [
            "[<h1 class=\"card-title pricing-card-title\"><small class=\"text-muted\">4x de </small><span style=\"color: green\">R$9,90</span></h1>]\n"
          ]
        }
      ]
    },
    {
      "cell_type": "code",
      "source": [
        "pre_requisito = html_formatado.find(id = \"pre-requisite-section\")\n",
        "print(pre_requisito)"
      ],
      "metadata": {
        "colab": {
          "base_uri": "https://localhost:8080/"
        },
        "id": "Tk8RQqoyaYla",
        "outputId": "24122115-e80f-45d1-c91f-3574a2f3cfdb"
      },
      "execution_count": null,
      "outputs": [
        {
          "output_type": "stream",
          "name": "stdout",
          "text": [
            "<section class=\"pre-requisite-section\" id=\"pre-requisite-section\">\n",
            "<div class=\"container\">\n",
            "<div class=\"lead-form-wrapper single-col-max mx-auto theme-bg-light rounded p-5\">\n",
            "<h2 class=\"form-heading text-center\">Quais os Pré Requisitos</h2>\n",
            "<div class=\"form-intro text-center mb-3\">Nenhum, somente sua vontade de aprender.</div>\n",
            "</div><!--//lead-form-wrapper-->\n",
            "</div><!--//container-->\n",
            "</section>\n"
          ]
        }
      ]
    },
    {
      "cell_type": "markdown",
      "source": [
        "### Pegando Contéudo com filtro de texto"
      ],
      "metadata": {
        "id": "wRC9SYxPboLN"
      }
    },
    {
      "cell_type": "code",
      "source": [
        "from typing_extensions import Text\n",
        "todas_occorrencias_h2_h1 = html_formatado.find_all([\"h2\",\"h1\"], text = re.compile(\"Para que aprender\"))\n",
        "for occorencias_h2_h1 in todas_occorrencias_h2_h1:\n",
        "  print(occorencias_h2_h1.text)\n"
      ],
      "metadata": {
        "colab": {
          "base_uri": "https://localhost:8080/"
        },
        "id": "tja6L3nIbtPO",
        "outputId": "f4675ab2-1878-4bab-ea44-820fcf78ad97"
      },
      "execution_count": null,
      "outputs": [
        {
          "output_type": "stream",
          "name": "stdout",
          "text": [
            "Para que aprender Git?\n",
            "Para que aprender GitHub?\n"
          ]
        },
        {
          "output_type": "stream",
          "name": "stderr",
          "text": [
            "<ipython-input-12-2f9a5d3c9fc8>:2: DeprecationWarning: The 'text' argument to find()-type methods is deprecated. Use 'string' instead.\n",
            "  todas_occorrencias_h2_h1 = html_formatado.find_all([\"h2\",\"h1\"], text = re.compile(\"Para que aprender\"))\n"
          ]
        }
      ]
    },
    {
      "cell_type": "code",
      "source": [
        "botao = html_formatado.find(class_= \"price\")\n",
        "print(botao)"
      ],
      "metadata": {
        "colab": {
          "base_uri": "https://localhost:8080/"
        },
        "id": "y5sHQ608eUdX",
        "outputId": "0f53c8d2-dee1-45d2-ead3-8d9325d1784f"
      },
      "execution_count": null,
      "outputs": [
        {
          "output_type": "stream",
          "name": "stdout",
          "text": [
            "<section class=\"price py-5\">\n",
            "<div class=\"container\">\n",
            "<h2 class=\"section-heading text-center mb-5\">Investimento</h2>\n",
            "<div class=\"card-deck mb-3 text-center d-flex justify-content-center\">\n",
            "<div class=\"col-12 col-md-4 col-lg-4 card mb-4 box-shadow\">\n",
            "<div class=\"card-header\">\n",
            "<h4 class=\"my-0 font-weight-normal\">Promoção</h4>\n",
            "</div>\n",
            "<div class=\"card-body\">\n",
            "<h3 style=\"color:red\"><s>de R$89,90</s></h3>\n",
            "<h4>por</h4>\n",
            "<h1 class=\"card-title pricing-card-title\"><small class=\"text-muted\">4x de </small><span style=\"color: green\">R$9,90</span></h1>\n",
            "<ul class=\"list-unstyled mt-3 mb-4\">\n",
            "<li>R$1,00 por dia de investimento!</li>\n",
            "<li>60 páginas de conteúdo</li>\n",
            "<li>Segurança na compra</li>\n",
            "<li>Comprou, chegou</li>\n",
            "<li>7 dias de garantia</li>\n",
            "</ul>\n",
            "<div class=\"text-center\"><a class=\"btn btn-primary\" href=\"https://payment.hotmart.com/R54638781B?checkoutMode=10\" style=\"background: green !important;\">Quero Aprender Git e GitHub</a></div>\n",
            "</div>\n",
            "</div>\n",
            "</div>\n",
            "</div>\n",
            "</section>\n"
          ]
        }
      ]
    },
    {
      "cell_type": "code",
      "source": [
        "botao = html_formatado.find(class_= \"price\").a\n",
        "print(botao)"
      ],
      "metadata": {
        "colab": {
          "base_uri": "https://localhost:8080/"
        },
        "id": "_DXIsh0jfGwN",
        "outputId": "0884b343-0cfb-4c0b-a836-ae6409f119dc"
      },
      "execution_count": null,
      "outputs": [
        {
          "output_type": "stream",
          "name": "stdout",
          "text": [
            "<a class=\"btn btn-primary\" href=\"https://payment.hotmart.com/R54638781B?checkoutMode=10\" style=\"background: green !important;\">Quero Aprender Git e GitHub</a>\n"
          ]
        }
      ]
    },
    {
      "cell_type": "code",
      "source": [
        "botao = html_formatado.find(class_= \"price\").a\n",
        "print(botao[\"href\"])"
      ],
      "metadata": {
        "colab": {
          "base_uri": "https://localhost:8080/"
        },
        "id": "2NQZb2HAisbe",
        "outputId": "d5b779b0-50fc-43e2-f487-b710f8fb2804"
      },
      "execution_count": null,
      "outputs": [
        {
          "output_type": "stream",
          "name": "stdout",
          "text": [
            "https://payment.hotmart.com/R54638781B?checkoutMode=10\n"
          ]
        }
      ]
    },
    {
      "cell_type": "markdown",
      "source": [
        "### Pegando Imagens"
      ],
      "metadata": {
        "id": "nqFNIFckjAI_"
      }
    },
    {
      "cell_type": "code",
      "source": [
        "imagem = html_formatado.find(\"img\")\n",
        "print(imagem)"
      ],
      "metadata": {
        "colab": {
          "base_uri": "https://localhost:8080/"
        },
        "id": "gg9Mgb16jD-u",
        "outputId": "3a1c802d-be11-4de9-dac5-643f40ecdee0"
      },
      "execution_count": null,
      "outputs": [
        {
          "output_type": "stream",
          "name": "stdout",
          "text": [
            "<img alt=\"book cover\" class=\"img-fluid book-cover\" src=\"assets/images/capa-ebook-git-github.png\"/>\n"
          ]
        }
      ]
    },
    {
      "cell_type": "code",
      "source": [
        "imagem = html_formatado.find(\"img\")\n",
        "print(imagem[\"src\"])"
      ],
      "metadata": {
        "colab": {
          "base_uri": "https://localhost:8080/"
        },
        "id": "cHO5_ETzjnqy",
        "outputId": "236b3b95-1094-4ac8-85b0-30ab0d68bcff"
      },
      "execution_count": null,
      "outputs": [
        {
          "output_type": "stream",
          "name": "stdout",
          "text": [
            "assets/images/capa-ebook-git-github.png\n"
          ]
        }
      ]
    },
    {
      "cell_type": "markdown",
      "source": [
        "### Navegação : Pegando elementos"
      ],
      "metadata": {
        "id": "hObfxsUIkVCy"
      }
    },
    {
      "cell_type": "code",
      "source": [
        "elemento_da_lista = html_formatado.find(\"section\", class_ = \"content-section\")\n",
        "print(elemento_da_lista)"
      ],
      "metadata": {
        "colab": {
          "base_uri": "https://localhost:8080/"
        },
        "id": "oySyVKujkZrh",
        "outputId": "2d3ed001-7c6f-43b2-ba21-4ca25472edc3"
      },
      "execution_count": null,
      "outputs": [
        {
          "output_type": "stream",
          "name": "stdout",
          "text": [
            "<section class=\"content-section\" id=\"content-section\">\n",
            "<div class=\"container\">\n",
            "<div class=\"single-col-max mx-auto\">\n",
            "<h2 class=\"section-heading text-center mb-5\">Quais os Tópicos?</h2>\n",
            "<div class=\"row\">\n",
            "<div class=\"col-12 col-md-8\">\n",
            "<div class=\"figure-holder mb-5\">\n",
            "<img alt=\"image\" class=\"img-fluid\" src=\"assets/images/devices.png\"/>\n",
            "</div><!--//figure-holder-->\n",
            "</div><!--//col-->\n",
            "<div class=\"col-12 col-md-4 mb-5\">\n",
            "<div class=\"key-points mb-4 text-center\">\n",
            "<ul class=\"key-points-list list-unstyled mb-4 mx-auto d-inline-block text-left\">\n",
            "<li><i class=\"fas fa-check-circle mr-2\"></i>Instalação do Git e Criação de Conta no GitHub</li>\n",
            "<li><i class=\"fas fa-check-circle mr-2\"></i>Adicionar, Excluir e Listar  Modificações de Código</li>\n",
            "<li><i class=\"fas fa-check-circle mr-2\"></i>Receber, Enviar, Verificar e Resetar Modificações de Código</li>\n",
            "<li><i class=\"fas fa-check-circle mr-2\"></i>Lidar com Conflitos e Clonar Projetos Públicos</li>\n",
            "</ul>\n",
            "<div class=\"text-center\"><a class=\"btn btn-primary\" href=\"https://payment.hotmart.com/R54638781B?checkoutMode=10\">Eu quero esse livro</a></div>\n",
            "</div><!--//key-points-->\n",
            "</div><!--//col-12-->\n",
            "</div><!--//row-->\n",
            "</div><!--//single-col-max-->\n",
            "</div><!--//container-->\n",
            "</section>\n"
          ]
        }
      ]
    },
    {
      "cell_type": "code",
      "source": [
        "elemento_da_lista = html_formatado.find(\"section\", class_ = \"content-section\").ul\n",
        "print(elemento_da_lista)"
      ],
      "metadata": {
        "colab": {
          "base_uri": "https://localhost:8080/"
        },
        "id": "EC0XroC6mKIF",
        "outputId": "0072faec-ed2c-4783-8ddd-0d9c8e6dd6bf"
      },
      "execution_count": null,
      "outputs": [
        {
          "output_type": "stream",
          "name": "stdout",
          "text": [
            "<ul class=\"key-points-list list-unstyled mb-4 mx-auto d-inline-block text-left\">\n",
            "<li><i class=\"fas fa-check-circle mr-2\"></i>Instalação do Git e Criação de Conta no GitHub</li>\n",
            "<li><i class=\"fas fa-check-circle mr-2\"></i>Adicionar, Excluir e Listar  Modificações de Código</li>\n",
            "<li><i class=\"fas fa-check-circle mr-2\"></i>Receber, Enviar, Verificar e Resetar Modificações de Código</li>\n",
            "<li><i class=\"fas fa-check-circle mr-2\"></i>Lidar com Conflitos e Clonar Projetos Públicos</li>\n",
            "</ul>\n"
          ]
        }
      ]
    },
    {
      "cell_type": "code",
      "source": [
        "elemento_da_lista = html_formatado.find(\"section\", class_ = \"content-section\").ul.li\n",
        "print(elemento_da_lista)"
      ],
      "metadata": {
        "colab": {
          "base_uri": "https://localhost:8080/"
        },
        "id": "41kVJ0NZmYnS",
        "outputId": "fb8dfa43-af99-47af-aac3-83be6da8e89a"
      },
      "execution_count": null,
      "outputs": [
        {
          "output_type": "stream",
          "name": "stdout",
          "text": [
            "<li><i class=\"fas fa-check-circle mr-2\"></i>Instalação do Git e Criação de Conta no GitHub</li>\n"
          ]
        }
      ]
    },
    {
      "cell_type": "markdown",
      "source": [
        "### Função select"
      ],
      "metadata": {
        "id": "U8rCvWBynllx"
      }
    },
    {
      "cell_type": "code",
      "source": [
        "quarto_elemento_lista = html_formatado.select(\".content-section ul li:nth-of-type(4)\")\n",
        "print(quarto_elemento_lista)"
      ],
      "metadata": {
        "colab": {
          "base_uri": "https://localhost:8080/"
        },
        "id": "ekcPRd8nnqfr",
        "outputId": "12dd43d1-60f1-4fdf-d15d-f1fb722cd2b7"
      },
      "execution_count": null,
      "outputs": [
        {
          "output_type": "stream",
          "name": "stdout",
          "text": [
            "[<li><i class=\"fas fa-check-circle mr-2\"></i>Lidar com Conflitos e Clonar Projetos Públicos</li>]\n"
          ]
        }
      ]
    },
    {
      "cell_type": "markdown",
      "source": [
        "- Obs : o 'ponto' antes de content ( .content ), é para selecionar uma classe.\n",
        "- Já o # é usado para seleecionar \"id\"."
      ],
      "metadata": {
        "id": "GmvuHSKuxgPF"
      }
    }
  ]
}